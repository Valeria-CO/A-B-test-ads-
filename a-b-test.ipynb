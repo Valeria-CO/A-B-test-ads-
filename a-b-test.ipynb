{
 "cells": [
  {
   "cell_type": "markdown",
   "id": "0a3493c8-3cf0-4c82-972b-ff61307d24ee",
   "metadata": {},
   "source": [
    "## The company decided to optimize its advertising costs. To do this, some users were included in a control group (full product advertising), while the test group saw only PSA (social advertising).\n",
    "\n",
    "### Null hypothesis (H₀): Conversion in the group without advertising is no different from conversion in the group with advertising.\n",
    "\n",
    "### Alternative hypothesis (H₁): Conversion in the group without advertising differs from conversion in the group with advertising."
   ]
  },
  {
   "cell_type": "markdown",
   "id": "eba40c8d-c6f2-4cea-bc27-e34baedea73b",
   "metadata": {},
   "source": [
    "## Choosing metrics\n",
    "\n",
    "The primary metric shows the test's impact, while the secondary metrics help identify potential side effects that could be critical to the business.\n",
    "\n",
    "Primary metric: **Conversion** – whether a user purchased a product or not (binary). This metric is used to test the hypothesis: \"Does disabling ads affect conversion?\"\n",
    "\n",
    "Secondary / guardrail metrics:  **Total ads** - the average number of ads to ensure the control group received fewer ads, and\n",
    "**Most ads day** - a segmentation metric to see if the day of the week affects conversion."
   ]
  },
  {
   "cell_type": "code",
   "execution_count": 1,
   "id": "6133d279-3848-4a0b-9104-bc0e828294c1",
   "metadata": {},
   "outputs": [],
   "source": [
    "import numpy as np\n",
    "import pandas as pd\n",
    "import matplotlib.pyplot as plt\n",
    "import seaborn as sns\n",
    "\n",
    "from statsmodels.stats.power import NormalIndPower\n",
    "from statsmodels.stats.api import proportion_effectsize\n",
    "from statsmodels.stats.proportion import proportions_ztest\n",
    "from scipy.stats import chi2_contingency, mannwhitneyu"
   ]
  },
  {
   "cell_type": "code",
   "execution_count": 2,
   "id": "738918c3-5ee1-4075-b285-2ecd9f26ffb7",
   "metadata": {},
   "outputs": [
    {
     "data": {
      "text/html": [
       "<div>\n",
       "<style scoped>\n",
       "    .dataframe tbody tr th:only-of-type {\n",
       "        vertical-align: middle;\n",
       "    }\n",
       "\n",
       "    .dataframe tbody tr th {\n",
       "        vertical-align: top;\n",
       "    }\n",
       "\n",
       "    .dataframe thead th {\n",
       "        text-align: right;\n",
       "    }\n",
       "</style>\n",
       "<table border=\"1\" class=\"dataframe\">\n",
       "  <thead>\n",
       "    <tr style=\"text-align: right;\">\n",
       "      <th></th>\n",
       "      <th>user id</th>\n",
       "      <th>test group</th>\n",
       "      <th>converted</th>\n",
       "      <th>total ads</th>\n",
       "      <th>most ads day</th>\n",
       "      <th>most ads hour</th>\n",
       "    </tr>\n",
       "  </thead>\n",
       "  <tbody>\n",
       "    <tr>\n",
       "      <th>0</th>\n",
       "      <td>1069124</td>\n",
       "      <td>ad</td>\n",
       "      <td>False</td>\n",
       "      <td>130</td>\n",
       "      <td>Monday</td>\n",
       "      <td>20</td>\n",
       "    </tr>\n",
       "    <tr>\n",
       "      <th>1</th>\n",
       "      <td>1119715</td>\n",
       "      <td>ad</td>\n",
       "      <td>False</td>\n",
       "      <td>93</td>\n",
       "      <td>Tuesday</td>\n",
       "      <td>22</td>\n",
       "    </tr>\n",
       "    <tr>\n",
       "      <th>2</th>\n",
       "      <td>1144181</td>\n",
       "      <td>ad</td>\n",
       "      <td>False</td>\n",
       "      <td>21</td>\n",
       "      <td>Tuesday</td>\n",
       "      <td>18</td>\n",
       "    </tr>\n",
       "    <tr>\n",
       "      <th>3</th>\n",
       "      <td>1435133</td>\n",
       "      <td>ad</td>\n",
       "      <td>False</td>\n",
       "      <td>355</td>\n",
       "      <td>Tuesday</td>\n",
       "      <td>10</td>\n",
       "    </tr>\n",
       "    <tr>\n",
       "      <th>4</th>\n",
       "      <td>1015700</td>\n",
       "      <td>ad</td>\n",
       "      <td>False</td>\n",
       "      <td>276</td>\n",
       "      <td>Friday</td>\n",
       "      <td>14</td>\n",
       "    </tr>\n",
       "  </tbody>\n",
       "</table>\n",
       "</div>"
      ],
      "text/plain": [
       "   user id test group  converted  total ads most ads day  most ads hour\n",
       "0  1069124         ad      False        130       Monday             20\n",
       "1  1119715         ad      False         93      Tuesday             22\n",
       "2  1144181         ad      False         21      Tuesday             18\n",
       "3  1435133         ad      False        355      Tuesday             10\n",
       "4  1015700         ad      False        276       Friday             14"
      ]
     },
     "execution_count": 2,
     "metadata": {},
     "output_type": "execute_result"
    }
   ],
   "source": [
    "df = pd.read_csv('marketing_AB.csv', index_col=[0])\n",
    "df.head()"
   ]
  },
  {
   "cell_type": "markdown",
   "id": "77f4c9a2-c2d1-4058-9089-1f007ecea48c",
   "metadata": {},
   "source": [
    "## Sample size\n",
    "\n",
    "It is necessary to calculate the sample size for an A/B test to ensure the test is statistically valid."
   ]
  },
  {
   "cell_type": "markdown",
   "id": "fb9ddafa-f0ba-4c13-bd20-2b115f4683c7",
   "metadata": {},
   "source": [
    "*The baseline conversion rate* is the current conversion rate of a product, usually taken from historical data (e.g., if 100 out of 1,000 users purchased a product, the baseline is 0.1 (10%))\n",
    "\n",
    "*The minimum detectable effect (MDE)* is the smallest change you need to notice. (e.g., if disabling ads decreases conversion by 1%, you need to notice it - MDE = 0.01)\n",
    "\n",
    "*The significance level (alpha)* is the probability of a Type I error—when we mistakenly assume that advertising has an effect when it actually has none (the standard is 0.05 if there are no requirements)\n",
    "\n",
    "*Statistical power* is the probability of detecting a real effect, if any. Typical values are 0.8 (80%) or 0.9 (90%).\n",
    "If the power is too low, you might not notice a real drop in conversion. If the power is too high, you need more users than you actually need."
   ]
  },
  {
   "cell_type": "code",
   "execution_count": 3,
   "id": "343d9d1d-861e-4513-80fc-88c3de9ad192",
   "metadata": {},
   "outputs": [
    {
     "name": "stdout",
     "output_type": "stream",
     "text": [
      "Baseline conversion rate: 2.55%\n"
     ]
    }
   ],
   "source": [
    "baseline = df[df['test group']=='ad']['converted'].mean()\n",
    "print(f\"Baseline conversion rate: {baseline:.2%}\")"
   ]
  },
  {
   "cell_type": "code",
   "execution_count": 4,
   "id": "88f6bab2-19c9-43da-86e3-6fab9bbe61e6",
   "metadata": {},
   "outputs": [],
   "source": [
    "mde = 0.01  # 1% падение конверсии\n",
    "alpha = 0.05\n",
    "power = 0.8"
   ]
  },
  {
   "cell_type": "markdown",
   "id": "0f93b632-964d-49b2-8b13-575c11ad242e",
   "metadata": {},
   "source": [
    "To test whether disabling ads impacts purchases, we calculate how many users need to be included in the test and control groups to ensure a significant and statistically significant drop in conversion.\n",
    "\n",
    "To do this, we measure the effect size - how much the groups differ from each other, but converted into a single numerical metric for statistics—and use the NormalIndPower() statistical calculator, which helps calculate the sample size for an A/B test and takes into account variance and the desired confidence level."
   ]
  },
  {
   "cell_type": "code",
   "execution_count": 5,
   "id": "9427b6f3-a651-47a4-b26c-ec28e14bb36d",
   "metadata": {},
   "outputs": [
    {
     "data": {
      "text/plain": [
       "np.float64(0.07102037687978541)"
      ]
     },
     "execution_count": 5,
     "metadata": {},
     "output_type": "execute_result"
    }
   ],
   "source": [
    "effect_size = proportion_effectsize(baseline, baseline - mde)\n",
    "effect_size"
   ]
  },
  {
   "cell_type": "code",
   "execution_count": 6,
   "id": "310cba58-c8ca-4396-ab26-73e04b00bc53",
   "metadata": {},
   "outputs": [
    {
     "data": {
      "text/plain": [
       "3112.222665681538"
      ]
     },
     "execution_count": 6,
     "metadata": {},
     "output_type": "execute_result"
    }
   ],
   "source": [
    "analysis = NormalIndPower()\n",
    "n_per_group = analysis.solve_power(effect_size, power=power, alpha=alpha, alternative='two-sided')\n",
    "n_per_group"
   ]
  },
  {
   "cell_type": "code",
   "execution_count": 7,
   "id": "960cd315-aab1-4c18-8226-0964b74ba03b",
   "metadata": {},
   "outputs": [],
   "source": [
    "ad_sample = df[df['test group'] == 'ad'].sample(n=3112, random_state=42)\n",
    "psa_sample = df[df['test group'] == 'psa'].sample(n=3112, random_state=42)\n",
    "ab_df = pd.concat([ad_sample, psa_sample], ignore_index=True)"
   ]
  },
  {
   "cell_type": "code",
   "execution_count": 8,
   "id": "2862406a-8ec9-4c19-9426-359aea934bc9",
   "metadata": {},
   "outputs": [
    {
     "data": {
      "text/plain": [
       "(mean    0.025707\n",
       " std     0.158285\n",
       " Name: converted, dtype: float64,\n",
       " mean    0.020887\n",
       " std     0.143029\n",
       " Name: converted, dtype: float64)"
      ]
     },
     "execution_count": 8,
     "metadata": {},
     "output_type": "execute_result"
    }
   ],
   "source": [
    "ad_sample['converted'].agg(['mean', 'std']), psa_sample['converted'].agg(['mean', 'std'])"
   ]
  },
  {
   "cell_type": "code",
   "execution_count": 9,
   "id": "d494a608-1395-484c-a0e7-edffbda1f3e4",
   "metadata": {},
   "outputs": [],
   "source": [
    "ab_df.to_csv('ab_df.csv', index=False)"
   ]
  },
  {
   "cell_type": "code",
   "execution_count": 10,
   "id": "43a453bb-7924-4f68-93ea-58a02d746f63",
   "metadata": {},
   "outputs": [
    {
     "data": {
      "text/html": [
       "<div>\n",
       "<style scoped>\n",
       "    .dataframe tbody tr th:only-of-type {\n",
       "        vertical-align: middle;\n",
       "    }\n",
       "\n",
       "    .dataframe tbody tr th {\n",
       "        vertical-align: top;\n",
       "    }\n",
       "\n",
       "    .dataframe thead th {\n",
       "        text-align: right;\n",
       "    }\n",
       "</style>\n",
       "<table border=\"1\" class=\"dataframe\">\n",
       "  <thead>\n",
       "    <tr style=\"text-align: right;\">\n",
       "      <th></th>\n",
       "      <th>user id</th>\n",
       "      <th>test group</th>\n",
       "      <th>converted</th>\n",
       "      <th>total ads</th>\n",
       "      <th>most ads day</th>\n",
       "      <th>most ads hour</th>\n",
       "    </tr>\n",
       "  </thead>\n",
       "  <tbody>\n",
       "    <tr>\n",
       "      <th>0</th>\n",
       "      <td>1300427</td>\n",
       "      <td>ad</td>\n",
       "      <td>False</td>\n",
       "      <td>21</td>\n",
       "      <td>Friday</td>\n",
       "      <td>20</td>\n",
       "    </tr>\n",
       "    <tr>\n",
       "      <th>1</th>\n",
       "      <td>1197483</td>\n",
       "      <td>ad</td>\n",
       "      <td>False</td>\n",
       "      <td>2</td>\n",
       "      <td>Thursday</td>\n",
       "      <td>20</td>\n",
       "    </tr>\n",
       "    <tr>\n",
       "      <th>2</th>\n",
       "      <td>1234257</td>\n",
       "      <td>ad</td>\n",
       "      <td>False</td>\n",
       "      <td>20</td>\n",
       "      <td>Sunday</td>\n",
       "      <td>10</td>\n",
       "    </tr>\n",
       "    <tr>\n",
       "      <th>3</th>\n",
       "      <td>1384841</td>\n",
       "      <td>ad</td>\n",
       "      <td>True</td>\n",
       "      <td>47</td>\n",
       "      <td>Friday</td>\n",
       "      <td>14</td>\n",
       "    </tr>\n",
       "    <tr>\n",
       "      <th>4</th>\n",
       "      <td>1646962</td>\n",
       "      <td>ad</td>\n",
       "      <td>False</td>\n",
       "      <td>13</td>\n",
       "      <td>Tuesday</td>\n",
       "      <td>13</td>\n",
       "    </tr>\n",
       "  </tbody>\n",
       "</table>\n",
       "</div>"
      ],
      "text/plain": [
       "   user id test group  converted  total ads most ads day  most ads hour\n",
       "0  1300427         ad      False         21       Friday             20\n",
       "1  1197483         ad      False          2     Thursday             20\n",
       "2  1234257         ad      False         20       Sunday             10\n",
       "3  1384841         ad       True         47       Friday             14\n",
       "4  1646962         ad      False         13      Tuesday             13"
      ]
     },
     "execution_count": 10,
     "metadata": {},
     "output_type": "execute_result"
    }
   ],
   "source": [
    "ab_df = pd.read_csv('ab_df.csv')\n",
    "ab_df.head()"
   ]
  },
  {
   "cell_type": "code",
   "execution_count": 11,
   "id": "0220807e-77f4-4659-9abd-cf3da71e4635",
   "metadata": {},
   "outputs": [],
   "source": [
    "ab_df['converted'] = ab_df['converted'].astype(int) # для удобства подсчётом переведём в 0/1"
   ]
  },
  {
   "cell_type": "code",
   "execution_count": 12,
   "id": "acf91ac2-359b-468a-9bdf-8a99e617e0eb",
   "metadata": {},
   "outputs": [
    {
     "data": {
      "text/plain": [
       "(np.int64(80), np.int64(65))"
      ]
     },
     "execution_count": 12,
     "metadata": {},
     "output_type": "execute_result"
    }
   ],
   "source": [
    "# \"счётчики успехов\" - число покупок в каждой группе\n",
    "succ_ad = ab_df[ab_df['test group'] == 'ad']['converted'].sum()\n",
    "succ_psa = ab_df[ab_df['test group'] == 'psa']['converted'].sum()\n",
    "succ_ad,  succ_psa"
   ]
  },
  {
   "cell_type": "code",
   "execution_count": 13,
   "id": "04355870-c5e6-4463-a4db-c70de82d5f16",
   "metadata": {},
   "outputs": [
    {
     "data": {
      "text/plain": [
       "(np.float64(0.02570694087403599), np.float64(0.020886889460154243))"
      ]
     },
     "execution_count": 13,
     "metadata": {},
     "output_type": "execute_result"
    }
   ],
   "source": [
    "# конверсии в каждой группе (оценки вероятности покупки) \n",
    "n = 3112\n",
    "p_ad = succ_ad / n\n",
    "p_psa = succ_psa / n\n",
    "p_ad, p_psa"
   ]
  },
  {
   "cell_type": "code",
   "execution_count": 14,
   "id": "6d36d449-b905-4e58-bb64-5a317c68a448",
   "metadata": {},
   "outputs": [
    {
     "data": {
      "text/plain": [
       "np.float64(0.004820051413881747)"
      ]
     },
     "execution_count": 14,
     "metadata": {},
     "output_type": "execute_result"
    }
   ],
   "source": [
    "# наблюдаемая разница - \"величина эффекта\" которую мы наблюдаем в данных\n",
    "obs_diff = p_ad - p_psa\n",
    "obs_diff"
   ]
  },
  {
   "cell_type": "code",
   "execution_count": null,
   "id": "f7975419-2a82-4c88-a364-3fe938b7a985",
   "metadata": {},
   "outputs": [],
   "source": []
  },
  {
   "cell_type": "markdown",
   "id": "9f1fe3ea-b501-4ec9-904e-45463cc84d35",
   "metadata": {},
   "source": [
    "# Testing"
   ]
  },
  {
   "cell_type": "markdown",
   "id": "24edf2cb-456f-40e9-8db7-39fee89daef8",
   "metadata": {},
   "source": [
    "## Two-proportion Z-test"
   ]
  },
  {
   "cell_type": "code",
   "execution_count": 15,
   "id": "24ee655b-d177-420f-9b37-623493e01f02",
   "metadata": {},
   "outputs": [
    {
     "name": "stdout",
     "output_type": "stream",
     "text": [
      "Z-test stat = 1.2605, p-value = 0.2075\n"
     ]
    }
   ],
   "source": [
    "counts = np.array([succ_ad, succ_psa])\n",
    "nobs = np.array([n, n])\n",
    "\n",
    "stat, pvalue = proportions_ztest(counts, nobs, alternative='two-sided')\n",
    "print(f\"Z-test stat = {stat:.4f}, p-value = {pvalue:.4f}\")"
   ]
  },
  {
   "cell_type": "markdown",
   "id": "a86fdadb-4165-4e69-b7b8-cad3e09c9217",
   "metadata": {},
   "source": [
    "Z-test stat - is the number of standard deviations by which the observed difference between conversions differs from zero (the expected difference at H₀).\n",
    "(Z = 0 - conversions are almost equal, the further Z is from 0 (in both directions), the greater the difference)\n",
    "In our case, 1.26 is a small deviation, that is, there is a difference between the groups, but it is insignificant.\n",
    "\n",
    "p-value - this is the probability of getting such a difference (or a greater difference) in conversion, if in fact there is no difference.\n",
    "p-value > 0.05, We have no reason to reject the null hypothesis - no statistical differences in conversion between users with and without advertising were found."
   ]
  },
  {
   "cell_type": "code",
   "execution_count": null,
   "id": "a63d8e53-bd53-4b86-b782-51e73660d443",
   "metadata": {},
   "outputs": [],
   "source": []
  },
  {
   "cell_type": "markdown",
   "id": "c548b326-e285-487a-b1c7-48d29ea0042a",
   "metadata": {},
   "source": [
    "## Chi-square test (control/alternative z-test)"
   ]
  },
  {
   "cell_type": "code",
   "execution_count": 16,
   "id": "4b3a60ae-09c3-4808-b850-ba735185681b",
   "metadata": {},
   "outputs": [
    {
     "name": "stdout",
     "output_type": "stream",
     "text": [
      "Chi2 = 1.5887, p-value = 0.2075\n",
      "Expected frequencies:\n",
      " [[  72.5 3039.5]\n",
      " [  72.5 3039.5]]\n"
     ]
    }
   ],
   "source": [
    "table = np.array([[succ_ad, n - succ_ad],\n",
    "                        [succ_psa, n - succ_psa]])\n",
    "chi2, p_chi, dof, expected = chi2_contingency(table, correction=False)\n",
    "print(f\"Chi2 = {chi2:.4f}, p-value = {p_chi:.4f}\")\n",
    "print(\"Expected frequencies:\\n\", expected)"
   ]
  },
  {
   "cell_type": "markdown",
   "id": "869f22b0-ca24-47d9-bd01-d2166bd7ea0d",
   "metadata": {},
   "source": [
    "Chi2 stat - shows how much the observed distribution deviates from what we would expect in the absence of the effect (the higher - the greater the deviation from equality)\n",
    "\n",
    "The results of the Chi2 test are consistent with the results of the Z-test: the differences in conversion between users who saw ads and users who did not see ads are not statistically significant."
   ]
  },
  {
   "cell_type": "code",
   "execution_count": null,
   "id": "4fb04486-2686-48bf-91e0-e8534b993510",
   "metadata": {},
   "outputs": [],
   "source": []
  },
  {
   "cell_type": "markdown",
   "id": "cdf89844-07c3-4f06-ac03-967df98c1f97",
   "metadata": {},
   "source": [
    "## Bootstrap test\n",
    "\n",
    "To be absolutely sure, let's run one more test—the Bootstrap test. We'll simulate how the sample would behave if we ran the experiment multiple times."
   ]
  },
  {
   "cell_type": "code",
   "execution_count": 18,
   "id": "0d6355e7-35c2-42ef-82df-26c77f31733c",
   "metadata": {},
   "outputs": [
    {
     "name": "stdout",
     "output_type": "stream",
     "text": [
      "Bootstrap 95% CI for (ad - psa): [-0.0125, 0.0026]\n",
      "Bootstrap p-value (two-sided) = 0.5240\n"
     ]
    }
   ],
   "source": [
    "ad = ab_df[ab_df['test group'] == 'ad']['converted']\n",
    "psa = ab_df[ab_df['test group'] == 'psa']['converted']\n",
    "n_iterations = 1000\n",
    "bootstrap_stats = np.zeros(n_iterations)\n",
    "\n",
    "for i in range(n_iterations):\n",
    "    control_sample = np.random.choice(ad, n, replace=True)\n",
    "    treatment_sample = np.random.choice(psa, n, replace=True)\n",
    "    bootstrap_diff = np.mean(treatment_sample) - np.mean(control_sample)\n",
    "    bootstrap_stats[i] = bootstrap_diff\n",
    "\n",
    "ci_low, ci_high = np.percentile(bootstrap_stats, [2.5, 97.5])\n",
    "p_boot = np.mean(np.abs(bootstrap_stats) >= abs(obs_diff))\n",
    "\n",
    "print(f\"Bootstrap 95% CI for (ad - psa): [{ci_low:.4f}, {ci_high:.4f}]\")\n",
    "print(f\"Bootstrap p-value (two-sided) = {p_boot:.4f}\")"
   ]
  },
  {
   "cell_type": "markdown",
   "id": "11979d0f-5594-407a-9bbb-69e39c9318a8",
   "metadata": {},
   "source": [
    "Ci (confidence interval) - if we repeated this experiment many times, then in 95% of cases the difference between conversions would lie between−1.25 % и +0.26 %.\n",
    "The negative range (-0.0125) means that sometimes the ad-free group even converts better.\n",
    "The positive range (+0.0026) means that sometimes it converts slightly worse.\n",
    "However, this range falls within zero, meaning the difference could be equally likely in either direction; no effect was detected.\n",
    "\n",
    "p_boot (p-value) = 0.5240 - In 52% of cases, the difference between groups in random bootstrap replicates was no less than the observed difference.\n",
    "This means that our observed difference is not unusual—it could easily have arisen by chance."
   ]
  },
  {
   "cell_type": "code",
   "execution_count": null,
   "id": "6008b67e-a2a4-426a-9d60-67bcbe5533bc",
   "metadata": {},
   "outputs": [],
   "source": []
  },
  {
   "cell_type": "markdown",
   "id": "36a441a4-e9f7-4034-81ac-d2fd2bc61f6f",
   "metadata": {},
   "source": [
    "## Visual confirmation of the result."
   ]
  },
  {
   "cell_type": "code",
   "execution_count": 21,
   "id": "4dc6fb54-1f8a-4773-8739-ec770a22c0c2",
   "metadata": {},
   "outputs": [
    {
     "data": {
      "image/png": "[encoded data removed]",
      "text/plain": [
       "<Figure size 1200x500 with 2 Axes>"
      ]
     },
     "metadata": {},
     "output_type": "display_data"
    }
   ],
   "source": [
    "conv_rates = ab_df.groupby('test group')['converted'].mean().reset_index()\n",
    "\n",
    "fig, axes = plt.subplots(1, 2, figsize=(12, 5))\n",
    "\n",
    "sns.barplot(x='test group', y='converted', data=conv_rates, ax=axes[0])\n",
    "sns.violinplot(x='test group', y='converted', data=ab_df, inner='quartile', ax=axes[1]);"
   ]
  },
  {
   "cell_type": "markdown",
   "id": "70c8b43e-22f0-4528-8c2d-82fda6f18aad",
   "metadata": {},
   "source": [
    "The height of the bars does not differ much - visually confirms the absence of an effect, and the second graph shows how similar the distributions are (shape, median, spread)"
   ]
  },
  {
   "cell_type": "code",
   "execution_count": 22,
   "id": "43a44e53-e4bf-4c38-8840-8b8d594c7fc7",
   "metadata": {},
   "outputs": [
    {
     "data": {
      "image/png": "[encoded data removed]",
      "text/plain": [
       "<Figure size 640x480 with 1 Axes>"
      ]
     },
     "metadata": {},
     "output_type": "display_data"
    }
   ],
   "source": [
    "plt.hist(bootstrap_stats, bins=40, color='#9ecae1', edgecolor='black')\n",
    "plt.axvline(ci_low, color='red', linestyle='--', label='95% CI')\n",
    "plt.axvline(ci_high, color='red', linestyle='--')\n",
    "plt.axvline(obs_diff, color='black', linestyle='-', label='Observed difference')\n",
    "plt.title('Bootstrap Distribution of Conversion Differences')\n",
    "plt.xlabel('Difference in conversion (ad - psa)')\n",
    "plt.ylabel('Frequency')\n",
    "plt.legend();"
   ]
  },
  {
   "cell_type": "code",
   "execution_count": null,
   "id": "1f7d6138-1284-4e4f-b0a4-51c044a96bd1",
   "metadata": {},
   "outputs": [],
   "source": []
  },
  {
   "cell_type": "markdown",
   "id": "872b483c-29ca-4565-82cd-f80de2176289",
   "metadata": {},
   "source": [
    "## Secondary metrics\n",
    "\n",
    "**total ads** - checking that users in the 'ad' group actually saw more ads than those in 'psa'.\n",
    "To select a test, let's look at the distribution:"
   ]
  },
  {
   "cell_type": "code",
   "execution_count": 23,
   "id": "7dcbbe92-15d1-4cef-b15c-1fdb69f2f488",
   "metadata": {},
   "outputs": [
    {
     "data": {
      "image/png": "[encoded data removed]",
      "text/plain": [
       "<Figure size 1200x500 with 2 Axes>"
      ]
     },
     "metadata": {},
     "output_type": "display_data"
    }
   ],
   "source": [
    "fig, axes = plt.subplots(1, 2, figsize=(12, 5))\n",
    "sns.histplot(ab_df[ab_df['test group'] == 'ad']['total ads'], ax=axes[0], bins=30)\n",
    "sns.histplot(ab_df[ab_df['test group'] == 'psa']['total ads'], ax=axes[1], bins=30);"
   ]
  },
  {
   "cell_type": "markdown",
   "id": "aab51325-5291-47ca-a617-692419611736",
   "metadata": {},
   "source": [
    "The distributions are not similar to normal ones, so we will use the Mann-Whitney test to check whether the distributions differ."
   ]
  },
  {
   "cell_type": "code",
   "execution_count": 24,
   "id": "5932ff6d-7ccb-47eb-b0ab-a246e9fe095e",
   "metadata": {},
   "outputs": [
    {
     "name": "stdout",
     "output_type": "stream",
     "text": [
      "Mann-Whitney U = 5094752.5000, p-value = 0.0004\n"
     ]
    }
   ],
   "source": [
    "u_stat, p_val = mannwhitneyu(ab_df[ab_df['test group'] == 'ad']['total ads'], ab_df[ab_df['test group'] == 'psa']['total ads'], alternative='two-sided')\n",
    "print(f\"Mann-Whitney U = {u_stat:.4f}, p-value = {p_val:.4f}\")"
   ]
  },
  {
   "cell_type": "markdown",
   "id": "0e318c31-ef51-4539-94cc-f23cdf624f68",
   "metadata": {},
   "source": [
    "Mann-Whitney U - test statistics (how much the ranks differ in the two groups)\n",
    "\n",
    "p-value < 0.05 - this means that the group with advertising actually saw more advertising."
   ]
  },
  {
   "cell_type": "code",
   "execution_count": null,
   "id": "d469eae0-5eac-4976-addb-e5504f695226",
   "metadata": {},
   "outputs": [],
   "source": []
  },
  {
   "cell_type": "markdown",
   "id": "c9e01170-ccd4-4b23-bea2-650df414d7ca",
   "metadata": {},
   "source": [
    "Conduct a **segmentation analysis** by day of the week to see whether the day of the week when a person saw the most ads affects conversion."
   ]
  },
  {
   "cell_type": "code",
   "execution_count": 25,
   "id": "b72c45ef-d99d-4a12-9e82-44643721fe7f",
   "metadata": {},
   "outputs": [
    {
     "data": {
      "image/png": "[encoded data removed]",
      "text/plain": [
       "<Figure size 640x480 with 1 Axes>"
      ]
     },
     "metadata": {},
     "output_type": "display_data"
    }
   ],
   "source": [
    "conv_by_day = ab_df.groupby('most ads day')['converted'].mean().reset_index()\n",
    "\n",
    "sns.barplot(x='most ads day', y='converted', data=conv_by_day)\n",
    "plt.title('Conversion Rate by Day of Maximum Ads')\n",
    "plt.ylabel('Conversion Rate')\n",
    "plt.xlabel('Day of Week');"
   ]
  },
  {
   "cell_type": "markdown",
   "id": "7d2fd40d-ea27-4554-bb24-7d20c7449c94",
   "metadata": {},
   "source": [
    "In general, conversion rates don't vary much across days of the week, except that one might recommend businesses launch their ads only on Mondays."
   ]
  },
  {
   "cell_type": "code",
   "execution_count": null,
   "id": "4981f53b-63a2-4982-b6bc-4dfc137c3c1a",
   "metadata": {},
   "outputs": [],
   "source": []
  },
  {
   "cell_type": "markdown",
   "id": "54087cfb-dd4e-4860-96bd-38fea22c635c",
   "metadata": {},
   "source": [
    "### SUMMARY\n",
    "\n",
    "The primary metric *conversion* - did not reveal any statistically significant differences between the groups.\n",
    "\n",
    "However, an examination of the secondary metrics confirmed that users indeed saw different amounts of ads,\n",
    "\n",
    "and an analysis by day of the week revealed no significant relationship between ad impression time and conversion.\n",
    "\n",
    "### Therefore, the hypothesis about the influence of advertising on conversion was not confirmed."
   ]
  },
  {
   "cell_type": "code",
   "execution_count": null,
   "id": "9bf4747f-4dfa-458e-aed7-12c2b44e8b5d",
   "metadata": {},
   "outputs": [],
   "source": []
  }
 ],
 "metadata": {
  "kernelspec": {
   "display_name": "Python 3 (ipykernel)",
   "language": "python",
   "name": "python3"
  },
  "language_info": {
   "codemirror_mode": {
    "name": "ipython",
    "version": 3
   },
   "file_extension": ".py",
   "mimetype": "text/x-python",
   "name": "python",
   "nbconvert_exporter": "python",
   "pygments_lexer": "ipython3",
   "version": "3.10.6"
  }
 },
 "nbformat": 4,
 "nbformat_minor": 5
}
